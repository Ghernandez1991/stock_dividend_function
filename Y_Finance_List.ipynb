{
 "cells": [
  {
   "cell_type": "code",
   "execution_count": 1,
   "metadata": {},
   "outputs": [],
   "source": [
    "#import dependencies\n",
    "import pandas as pd\n",
    "import yfinance as yf\n",
    "#set max rows to 4k\n",
    "pd.options.display.max_rows = 4000"
   ]
  },
  {
   "cell_type": "code",
   "execution_count": 2,
   "metadata": {},
   "outputs": [
    {
     "name": "stdout",
     "output_type": "stream",
     "text": [
      "How much per month are you looking to make in dividends?1000\n",
      "Enter stock tickers(all caps-no spaces) separated by comma NHI,APAM\n"
     ]
    }
   ],
   "source": [
    "how_much_per_month = int(input('How much per month are you looking to make in dividends?'))\n",
    "\n",
    "input_string = input(\"Enter stock tickers(all caps-no spaces) separated by comma \")\n",
    "stock_list  = input_string.split(\",\")\n",
    "\n"
   ]
  },
  {
   "cell_type": "code",
   "execution_count": 3,
   "metadata": {},
   "outputs": [],
   "source": [
    "#create function which takes in the ticker user selects \n",
    "def divcalc(stock_list):\n",
    "    #create blank lists to captures data from api\n",
    "    list_of_tickers = []\n",
    "    price_list = []\n",
    "    shares_needed_list = []\n",
    "    cost_of_shares_list = []\n",
    "    #iterate down the list of tickers the user provides \n",
    "    for row in stock_list:        \n",
    "        #append the current ticker to the list\n",
    "        list_of_tickers.append(row)      \n",
    "\n",
    "        #stock selected by yahoo api is equal to that passed in function \n",
    "        \n",
    "        stock_selected  = yf.Ticker(f'{row}')\n",
    "        \n",
    "        #most recent price is previous close price        \n",
    "        global most_recent_price\n",
    "        most_recent_price = stock_selected.info['previousClose']\n",
    "        #append current price to the list\n",
    "        price_list.append(most_recent_price)\n",
    "      \n",
    "        #set the dividends to a pandas series \n",
    "        stock_selected_df = stock_selected.dividends\n",
    "  \n",
    "    \n",
    "        #need to set series to an frame\n",
    "        stock_selected_df = stock_selected_df.to_frame()\n",
    "        #need to reset index to get date into a column\n",
    "        stock_selected_df = stock_selected_df.reset_index()\n",
    "        #need to check the dates on when dividend was issued. get the difference in days between the last item(last dividend), and second to last dividend\n",
    "        difference = (stock_selected_df[\"Date\"].iloc[-1] - stock_selected_df[\"Date\"].iloc[-2]).days\n",
    "        #if the date difference is greater than 90, this means dividends are paid quarterly\n",
    "        if difference >=90:\n",
    "            #divided the last dividend by three because we want it based on a monthly basis\n",
    "            dividend = stock_selected_df['Dividends'].iloc[-1]/3\n",
    "            #if it is less than 35, this means its monthly dividend. using 35 to catch off cases where it wasnt issued on exactly the 30th day\n",
    "        elif difference <35:\n",
    "            #if less than 35, grab the most recent dividend listed.\n",
    "            dividend = stock_selected_df['Dividends'].iloc[-1]\n",
    "            #for any other values, throw an error\n",
    "        else:\n",
    "            print(\"there is an error in the code\")\n",
    "        \n",
    "        #calculate how many shares you need to reach the dividends per month            \n",
    "        global shares_needed\n",
    "        #calculate shares needed\n",
    "        shares_needed = how_much_per_month / dividend\n",
    "        #appened the shares needed to the list\n",
    "        shares_needed_list.append(shares_needed)\n",
    "        #print the current row(stock ticker), the list and the lenght of the list\n",
    "        \n",
    "        #calculate the total cost of shares needed based on the price      \n",
    "        \n",
    "        global cost_of_shares\n",
    "        #calculate the cost of the shares\n",
    "        cost_of_shares = shares_needed * most_recent_price\n",
    "        #append the share cost to the list\n",
    "        cost_of_shares_list.append(cost_of_shares)\n",
    "      \n",
    "        global df\n",
    "        #list of column names\n",
    "        column_names = ['Ticker', 'Price', 'Dividends_Per_Month', 'Shares_Needed', 'Cost_of_Shares']\n",
    "        #create df with column names from list \n",
    "        df = pd.DataFrame(columns = column_names)\n",
    "        \n",
    "        #create a counter and set to zero\n",
    "        counter = 0\n",
    "        #as long as the counter is less than the lenght of the stock list the user passes, stay in this loop\n",
    "        while counter < (len(stock_list)):\n",
    "                 #iterate down the lenght of the stock list(passed by user)\n",
    "            for i in range(len(stock_list)):\n",
    "                \n",
    "                #create a dictionary using the current item in the interation(i) and use it to grab the corresponding value in each list\n",
    "                dictionary = {'Ticker': list_of_tickers[i], 'Price': price_list[i], 'Dividends_Per_Month': how_much_per_month, 'Shares_Needed': shares_needed_list[i], 'Cost_of_Shares': cost_of_shares_list[i]}\n",
    "                #needed to create temporary dataframe and appened when going through second interation.\n",
    "                df = df.append(dictionary, ignore_index=True)\n",
    "                #add one to the counter\n",
    "                counter = counter + 1\n",
    "                #if the counter is greater than the number of tickers in the los, get out of the loop\n",
    "                if counter >= len(list_of_tickers):\n",
    "                    break\n",
    "               \n",
    "    return print(df)"
   ]
  },
  {
   "cell_type": "code",
   "execution_count": 4,
   "metadata": {},
   "outputs": [
    {
     "name": "stdout",
     "output_type": "stream",
     "text": [
      "  Ticker  Price Dividends_Per_Month  Shares_Needed  Cost_of_Shares\n",
      "0    NHI  70.12                1000    2719.854941   190716.228468\n",
      "1   APAM  46.06                1000    2343.750000   107953.125000\n"
     ]
    }
   ],
   "source": [
    "divcalc(stock_list)"
   ]
  },
  {
   "cell_type": "code",
   "execution_count": 5,
   "metadata": {},
   "outputs": [
    {
     "data": {
      "text/html": [
       "<div>\n",
       "<style scoped>\n",
       "    .dataframe tbody tr th:only-of-type {\n",
       "        vertical-align: middle;\n",
       "    }\n",
       "\n",
       "    .dataframe tbody tr th {\n",
       "        vertical-align: top;\n",
       "    }\n",
       "\n",
       "    .dataframe thead th {\n",
       "        text-align: right;\n",
       "    }\n",
       "</style>\n",
       "<table border=\"1\" class=\"dataframe\">\n",
       "  <thead>\n",
       "    <tr style=\"text-align: right;\">\n",
       "      <th></th>\n",
       "      <th>Ticker</th>\n",
       "      <th>Price</th>\n",
       "      <th>Dividends_Per_Month</th>\n",
       "      <th>Shares_Needed</th>\n",
       "      <th>Cost_of_Shares</th>\n",
       "    </tr>\n",
       "  </thead>\n",
       "  <tbody>\n",
       "    <tr>\n",
       "      <td>0</td>\n",
       "      <td>NHI</td>\n",
       "      <td>70.12</td>\n",
       "      <td>1000</td>\n",
       "      <td>2719.854941</td>\n",
       "      <td>190716.228468</td>\n",
       "    </tr>\n",
       "    <tr>\n",
       "      <td>1</td>\n",
       "      <td>APAM</td>\n",
       "      <td>46.06</td>\n",
       "      <td>1000</td>\n",
       "      <td>2343.750000</td>\n",
       "      <td>107953.125000</td>\n",
       "    </tr>\n",
       "  </tbody>\n",
       "</table>\n",
       "</div>"
      ],
      "text/plain": [
       "  Ticker  Price Dividends_Per_Month  Shares_Needed  Cost_of_Shares\n",
       "0    NHI  70.12                1000    2719.854941   190716.228468\n",
       "1   APAM  46.06                1000    2343.750000   107953.125000"
      ]
     },
     "execution_count": 5,
     "metadata": {},
     "output_type": "execute_result"
    }
   ],
   "source": [
    "df\n"
   ]
  },
  {
   "cell_type": "code",
   "execution_count": null,
   "metadata": {},
   "outputs": [],
   "source": []
  }
 ],
 "metadata": {
  "kernelspec": {
   "display_name": "Python 3",
   "language": "python",
   "name": "python3"
  },
  "language_info": {
   "codemirror_mode": {
    "name": "ipython",
    "version": 3
   },
   "file_extension": ".py",
   "mimetype": "text/x-python",
   "name": "python",
   "nbconvert_exporter": "python",
   "pygments_lexer": "ipython3",
   "version": "3.7.4"
  }
 },
 "nbformat": 4,
 "nbformat_minor": 2
}
