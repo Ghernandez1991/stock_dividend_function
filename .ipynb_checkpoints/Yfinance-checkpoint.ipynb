{
 "cells": [
  {
   "cell_type": "code",
   "execution_count": 1,
   "metadata": {},
   "outputs": [],
   "source": [
    "#import dependencies\n",
    "import pandas as pd\n",
    "import yfinance as yf\n",
    "#set max rows to 4k\n",
    "pd.options.display.max_rows = 4000"
   ]
  },
  {
   "cell_type": "code",
   "execution_count": 2,
   "metadata": {},
   "outputs": [
    {
     "name": "stdout",
     "output_type": "stream",
     "text": [
      "Enter the stock symbol in all capsO\n",
      "How much per month are you looking to make in dividends?500\n"
     ]
    }
   ],
   "source": [
    "ticker = input(\"Enter the stock symbol in all caps\")\n",
    "how_much_per_month = int(input('How much per month are you looking to make in dividends?'))"
   ]
  },
  {
   "cell_type": "code",
   "execution_count": 3,
   "metadata": {},
   "outputs": [],
   "source": [
    "#create function which takes in the ticker user selects \n",
    "def divcalc(ticker):\n",
    "    #stock selected by yahoo api is equal to that passed in function \n",
    "    stock_selected  = yf.Ticker(f'{ticker}')\n",
    "    #most recent price is previous close price\n",
    "    global most_recent_price\n",
    "    most_recent_price = stock_selected.info['previousClose']\n",
    "    \n",
    "    \n",
    "\n",
    "    #set the dividends to a pandas series \n",
    "    stock_selected_df = stock_selected.dividends\n",
    "  \n",
    "    \n",
    "    #need to set series to an frame\n",
    "    stock_selected_df = stock_selected_df.to_frame()\n",
    "    #need to reset index to get date into a column\n",
    "    stock_selected_df = stock_selected_df.reset_index()\n",
    "    #need to check the dates on when dividend was issued. get the difference in days between the last item(last dividend), and second to last dividend\n",
    "    difference = (stock_selected_df[\"Date\"].iloc[-1] - stock_selected_df[\"Date\"].iloc[-2]).days\n",
    "    #if the date difference is greater than 90, this means dividends are paid quarterly\n",
    "    if difference >=90:\n",
    "        #divided the last dividend by three because we want it based on a monthly basis\n",
    "        dividend = stock_selected_df['Dividends'].iloc[-1]/3\n",
    "        #if it is less than 35, this means its monthly dividend. using 35 to catch off cases where it wasnt issued on exactly the 30th day\n",
    "    elif difference <35:\n",
    "        #if less than 35, grab the most recent dividend listed.\n",
    "        dividend = stock_selected_df['Dividends'].iloc[-1]\n",
    "        #for any other values, throw an error\n",
    "    else:\n",
    "        print(\"there is an error in the code\")\n",
    "        \n",
    "    #calculate how many shares you need to reach the dividends per month    \n",
    "    global shares_needed\n",
    "    shares_needed = how_much_per_month / dividend\n",
    "    #calculate the total cost of shares needed based on the price\n",
    "    global cost_of_shares\n",
    "    cost_of_shares = shares_needed * most_recent_price\n",
    "        \n",
    "        \n",
    "        \n",
    "  \n",
    "    #print off needed values\n",
    "    return  print(f'''There is a monthly dividend of {\"$\" + str(round(dividend, 3))}\n",
    "            The most recent price of {ticker} is {\"$\" + str(most_recent_price)}\n",
    "            In order to make {\"$\" + str(how_much_per_month)} per month, you would need to invest {\"$\" + str(round(cost_of_shares, 2))}\n",
    "            You need to buy {round(shares_needed, 2)} shares of {ticker}''')"
   ]
  },
  {
   "cell_type": "code",
   "execution_count": 4,
   "metadata": {},
   "outputs": [
    {
     "name": "stdout",
     "output_type": "stream",
     "text": [
      "There is a monthly dividend of $0.235\n",
      "            The most recent price of O is $59.45\n",
      "            In order to make $500 per month, you would need to invest $126489.36\n",
      "            You need to buy 2127.66 shares of O\n"
     ]
    }
   ],
   "source": [
    "#call function\n",
    "divcalc(ticker)"
   ]
  },
  {
   "cell_type": "code",
   "execution_count": 5,
   "metadata": {},
   "outputs": [],
   "source": [
    "#create dataframe and add global variables to the Df\n",
    "df = pd.DataFrame() \n",
    "df['Ticker'] = [ticker ]\n",
    "df['Price'] = [most_recent_price ]\n",
    "df['Dividends_Per_Month'] =[ how_much_per_month]\n",
    "df['Shares_Needed'] = [shares_needed] \n",
    "df['Cost_of_Shares'] = [cost_of_shares]"
   ]
  },
  {
   "cell_type": "code",
   "execution_count": 6,
   "metadata": {},
   "outputs": [
    {
     "data": {
      "text/html": [
       "<div>\n",
       "<style scoped>\n",
       "    .dataframe tbody tr th:only-of-type {\n",
       "        vertical-align: middle;\n",
       "    }\n",
       "\n",
       "    .dataframe tbody tr th {\n",
       "        vertical-align: top;\n",
       "    }\n",
       "\n",
       "    .dataframe thead th {\n",
       "        text-align: right;\n",
       "    }\n",
       "</style>\n",
       "<table border=\"1\" class=\"dataframe\">\n",
       "  <thead>\n",
       "    <tr style=\"text-align: right;\">\n",
       "      <th></th>\n",
       "      <th>Ticker</th>\n",
       "      <th>Price</th>\n",
       "      <th>Dividends_Per_Month</th>\n",
       "      <th>Shares_Needed</th>\n",
       "      <th>Cost_of_Shares</th>\n",
       "    </tr>\n",
       "  </thead>\n",
       "  <tbody>\n",
       "    <tr>\n",
       "      <td>0</td>\n",
       "      <td>O</td>\n",
       "      <td>59.45</td>\n",
       "      <td>500</td>\n",
       "      <td>2127.659574</td>\n",
       "      <td>126489.361702</td>\n",
       "    </tr>\n",
       "  </tbody>\n",
       "</table>\n",
       "</div>"
      ],
      "text/plain": [
       "  Ticker  Price  Dividends_Per_Month  Shares_Needed  Cost_of_Shares\n",
       "0      O  59.45                  500    2127.659574   126489.361702"
      ]
     },
     "execution_count": 6,
     "metadata": {},
     "output_type": "execute_result"
    }
   ],
   "source": [
    "#view df\n",
    "df"
   ]
  },
  {
   "cell_type": "code",
   "execution_count": null,
   "metadata": {},
   "outputs": [],
   "source": []
  }
 ],
 "metadata": {
  "kernelspec": {
   "display_name": "Python 3",
   "language": "python",
   "name": "python3"
  },
  "language_info": {
   "codemirror_mode": {
    "name": "ipython",
    "version": 3
   },
   "file_extension": ".py",
   "mimetype": "text/x-python",
   "name": "python",
   "nbconvert_exporter": "python",
   "pygments_lexer": "ipython3",
   "version": "3.7.4"
  }
 },
 "nbformat": 4,
 "nbformat_minor": 2
}
